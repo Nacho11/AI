{
 "cells": [
  {
   "cell_type": "code",
   "execution_count": 43,
   "metadata": {
    "collapsed": true
   },
   "outputs": [],
   "source": [
    "import matplotlib.pyplot as plt\n",
    "import numpy as np\n",
    "import math"
   ]
  },
  {
   "cell_type": "markdown",
   "metadata": {},
   "source": [
    "Problem Statement - \n",
    "There is a game played with the dies. You can call one of the numbers between 1 to 6. However there is a hidden parameter controlling the probability of getting an one. The problem is to estimate this hidden parameter with the result of this dies rolls."
   ]
  },
  {
   "cell_type": "markdown",
   "metadata": {},
   "source": [
    "Data - Each sample is either 0 for an one or 1 for any other number. Let the probability for getting an one be $\\theta$ and for getting any other number be 1 - $\\theta$ "
   ]
  },
  {
   "cell_type": "markdown",
   "metadata": {},
   "source": [
    "The total number of times an one appears out of n trials is y and given by the binomial distribution - p(y|$\\theta$, n).\n",
    "p(y|$\\theta$, n) = $^n$$C_{y}$ $\\theta^y$ (1-$\\theta$)$^n$$^-$$^y$."
   ]
  },
  {
   "cell_type": "code",
   "execution_count": 44,
   "metadata": {},
   "outputs": [
    {
     "name": "stdout",
     "output_type": "stream",
     "text": [
      "[4 2 4 4 1 3 6 2 1 5]\n"
     ]
    }
   ],
   "source": [
    "#Code to generate data points\n",
    "def generateData(n):\n",
    "    data = np.random.randint(1, 7, size=n)\n",
    "    return data\n",
    "\n",
    "print generateData(10)"
   ]
  },
  {
   "cell_type": "code",
   "execution_count": 45,
   "metadata": {
    "collapsed": true
   },
   "outputs": [],
   "source": [
    "def ncr(n, r):\n",
    "    f = math.factorial\n",
    "    return f(n) // f(r) // f(n-r)\n",
    "\n",
    "#Function to calculate the likelihood.\n",
    "def likelihood(theta, n):\n",
    "    print(theta)\n",
    "    all_likelihood = []\n",
    "    for i in range(1, n+1):\n",
    "        likelihood_i = ncr(n, i) * (theta**i) * (1-theta)**(n-i)\n",
    "        all_likelihood.append(likelihood_i)\n",
    "    return all_likelihood  "
   ]
  },
  {
   "cell_type": "code",
   "execution_count": 46,
   "metadata": {},
   "outputs": [
    {
     "name": "stdout",
     "output_type": "stream",
     "text": [
      "0.166666666667\n",
      "[0.3230111657796916, 0.2907100492017224, 0.15504535957425192, 0.05426587585098817, 0.013023810204237159, 0.002170635034039526, 0.00024807257531880297, 1.860544314891022e-05, 8.269085843960098e-07, 1.6538171687920194e-08]\n"
     ]
    }
   ],
   "source": [
    "print likelihood(1/6.0, 10)"
   ]
  },
  {
   "cell_type": "code",
   "execution_count": 47,
   "metadata": {
    "collapsed": true
   },
   "outputs": [],
   "source": [
    "#Drawing the histogram of data\n",
    "def barChart(data):\n",
    "    x = [a for a in range(1, len(data)+1)]\n",
    "    plt.bar(x, data, 1/1.5, color=\"blue\")\n",
    "    plt.xlabel('y')\n",
    "    plt.ylabel('likelihood')\n",
    "    plt.show()"
   ]
  },
  {
   "cell_type": "code",
   "execution_count": 48,
   "metadata": {},
   "outputs": [
    {
     "name": "stdout",
     "output_type": "stream",
     "text": [
      "0.166666666667\n"
     ]
    },
    {
     "data": {
      "image/png": "[encoded data removed]",
      "text/plain": [
       "<matplotlib.figure.Figure at 0x107bfde50>"
      ]
     },
     "metadata": {},
     "output_type": "display_data"
    }
   ],
   "source": [
    "data = likelihood(1/6.0, 10)\n",
    "barChart(data)"
   ]
  },
  {
   "cell_type": "code",
   "execution_count": 49,
   "metadata": {},
   "outputs": [
    {
     "name": "stdout",
     "output_type": "stream",
     "text": [
      "0.166666666667\n"
     ]
    },
    {
     "data": {
      "image/png": "[encoded data removed]",
      "text/plain": [
       "<matplotlib.figure.Figure at 0x107da0650>"
      ]
     },
     "metadata": {},
     "output_type": "display_data"
    }
   ],
   "source": [
    "#Plot for n = 20\n",
    "data = likelihood(1/6.0, 20)\n",
    "barChart(data)"
   ]
  },
  {
   "cell_type": "code",
   "execution_count": 50,
   "metadata": {},
   "outputs": [
    {
     "name": "stdout",
     "output_type": "stream",
     "text": [
      "0.333333333333\n"
     ]
    },
    {
     "data": {
      "image/png": "[encoded data removed]",
      "text/plain": [
       "<matplotlib.figure.Figure at 0x107da00d0>"
      ]
     },
     "metadata": {},
     "output_type": "display_data"
    }
   ],
   "source": [
    "#Plot for n = 10, with biased dies having the pobability of getting an odd number as 0.7 i.e theta = 0.7\n",
    "data = likelihood(2/6.0, 10)\n",
    "barChart(data)"
   ]
  },
  {
   "cell_type": "code",
   "execution_count": 51,
   "metadata": {},
   "outputs": [
    {
     "name": "stdout",
     "output_type": "stream",
     "text": [
      "0.0833333333333\n"
     ]
    },
    {
     "data": {
      "image/png": "[encoded data removed]",
      "text/plain": [
       "<matplotlib.figure.Figure at 0x107a3b190>"
      ]
     },
     "metadata": {},
     "output_type": "display_data"
    }
   ],
   "source": [
    "#Plot for n = 10, with theta = 0.2\n",
    "data = likelihood(0.5/6, 10)\n",
    "barChart(data)"
   ]
  },
  {
   "cell_type": "markdown",
   "metadata": {},
   "source": [
    "We have to calculate the value of $\\theta$. For that we first calculate the value of p($\\theta$ | y,n) i.e the probability of getting one given y - the number of times one appears and n the number of trials. We can find this value by applying the Bayes rule.\n",
    "\n",
    "p($\\theta$ | y, n) = ( p(y | $\\theta$, n) * p($\\theta$ | n) ) / p( y | n)\n",
    "\n",
    "The posterior is p($\\theta$ | y,n) <br>\n",
    "The likelihood is p(y | $\\theta$ | y,n) <br>\n",
    "The prior is p($\\theta$ | n) <br>\n",
    "Normailzing Constant is p(y | n)\n",
    "\n",
    "I have already calculated the likelihood. We don't know anything about the prior i.e the probability of $\\theta$ given n trails. We can say that this would be a number between [0, 1]. Thus we can say that the posterior is proportional to likelihood. Bayes in his original paper showed that p(y|n) = 1 / n+1. So we can say that the formula for calculating the posterior value is $^n$$C_{y}$ $\\theta^y$ (1-$\\theta$)$^n$$^-$$^y$ * (1+n). Below I have calulated these values and drawn the pdfs so as to esitmate the value of $\\theta$."
   ]
  },
  {
   "cell_type": "code",
   "execution_count": 52,
   "metadata": {
    "collapsed": true
   },
   "outputs": [],
   "source": [
    "#Function to calculate the posterior\n",
    "def posterior(y, n):\n",
    "    theta = [0, 1/6.0, 2/6.0, 3/6.0, 4/6.0, 5/6.0, 1]\n",
    "    posterior = []\n",
    "    for each_theta in theta:\n",
    "        posterior_each = ncr(n,y) * (each_theta**y) * ((1-each_theta)**(n-y)) * (n+1)\n",
    "        posterior.append(posterior_each)\n",
    "    plt.plot(theta, posterior, '-', linewidth=1)\n",
    "    plt.show()"
   ]
  },
  {
   "cell_type": "code",
   "execution_count": 53,
   "metadata": {},
   "outputs": [
    {
     "name": "stdout",
     "output_type": "stream",
     "text": [
      "8\n"
     ]
    },
    {
     "data": {
      "image/png": "[encoded data removed]",
      "text/plain": [
       "<matplotlib.figure.Figure at 0x107881e90>"
      ]
     },
     "metadata": {},
     "output_type": "display_data"
    }
   ],
   "source": [
    "data = generateData(50)\n",
    "y = np.count_nonzero(data == 1)\n",
    "print(y)\n",
    "posterior(y, 50)"
   ]
  },
  {
   "cell_type": "markdown",
   "metadata": {},
   "source": [
    "The value of $\\theta$ for the above values of 50 trails with ones appearing randomly is show above."
   ]
  },
  {
   "cell_type": "code",
   "execution_count": 61,
   "metadata": {},
   "outputs": [
    {
     "name": "stdout",
     "output_type": "stream",
     "text": [
      "20\n"
     ]
    },
    {
     "data": {
      "image/png": "[encoded data removed]",
      "text/plain": [
       "<matplotlib.figure.Figure at 0x107614890>"
      ]
     },
     "metadata": {},
     "output_type": "display_data"
    }
   ],
   "source": [
    "data = generateData(100)\n",
    "y = np.count_nonzero(data == 1)\n",
    "print(y)\n",
    "posterior(y, 100)"
   ]
  },
  {
   "cell_type": "markdown",
   "metadata": {},
   "source": [
    "The value of $\\theta$ for the above values of 100 trails with ones appearing randomly is shown above."
   ]
  },
  {
   "cell_type": "code",
   "execution_count": 55,
   "metadata": {},
   "outputs": [
    {
     "data": {
      "image/png": "[encoded data removed]",
      "text/plain": [
       "<matplotlib.figure.Figure at 0x10767a2d0>"
      ]
     },
     "metadata": {},
     "output_type": "display_data"
    }
   ],
   "source": [
    "posterior(10, 25)"
   ]
  },
  {
   "cell_type": "markdown",
   "metadata": {},
   "source": [
    "The value of $\\theta$ for the above values of 25 trails and one appearing 10 times is approx 0.33"
   ]
  },
  {
   "cell_type": "code",
   "execution_count": 20,
   "metadata": {},
   "outputs": [
    {
     "data": {
      "image/png": "[encoded data removed]",
      "text/plain": [
       "<matplotlib.figure.Figure at 0x1073876d0>"
      ]
     },
     "metadata": {},
     "output_type": "display_data"
    }
   ],
   "source": [
    "posterior(90, 100)"
   ]
  },
  {
   "cell_type": "markdown",
   "metadata": {},
   "source": [
    "The value of $\\theta$ for the above values of 100 trails and one appearing 90 times is approx 0.82"
   ]
  },
  {
   "cell_type": "code",
   "execution_count": 56,
   "metadata": {},
   "outputs": [
    {
     "data": {
      "image/png": "[encoded data removed]",
      "text/plain": [
       "<matplotlib.figure.Figure at 0x1074ea790>"
      ]
     },
     "metadata": {},
     "output_type": "display_data"
    }
   ],
   "source": [
    "posterior(62, 100)"
   ]
  },
  {
   "cell_type": "markdown",
   "metadata": {},
   "source": [
    "The value of $\\theta$ for the above values of 100 trails and one appearing 62 times is approx 0.63"
   ]
  },
  {
   "cell_type": "markdown",
   "metadata": {},
   "source": [
    "We can say that the value of $\\theta$ is approximately the number of time an odd number occurs divided by the total number of trials. "
   ]
  },
  {
   "cell_type": "code",
   "execution_count": null,
   "metadata": {
    "collapsed": true
   },
   "outputs": [],
   "source": []
  }
 ],
 "metadata": {
  "kernelspec": {
   "display_name": "Python 3",
   "language": "python",
   "name": "python3"
  },
  "language_info": {
   "codemirror_mode": {
    "name": "ipython",
    "version": 3
   },
   "file_extension": ".py",
   "mimetype": "text/x-python",
   "name": "python",
   "nbconvert_exporter": "python",
   "pygments_lexer": "ipython3",
   "version": "3.6.4"
  }
 },
 "nbformat": 4,
 "nbformat_minor": 2
}
