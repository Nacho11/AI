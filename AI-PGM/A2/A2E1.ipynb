{
 "cells": [
  {
   "cell_type": "markdown",
   "metadata": {},
   "source": [
    "Exercise 1: \n",
    "<br> (a) Create a Bayesian Belief Network with binary or discrete variables using pgmpy or PyMC3. Follow the example covered in class.\n",
    "<br> (b) Use variable elimination to derive a conditional probability expression using your previous example. Show this is consistent with what you obtain from the package. You should do a variable elimination example for a simple example like that shown in class."
   ]
  },
  {
   "cell_type": "markdown",
   "metadata": {},
   "source": [
    "### Bayesian Model Using PGMPY\n",
    "\n",
    "Problem - A person enters the house and sees cooked food on the table. There are two posibilities for this either wife (W) or Daughter (D) or both have prepared the meal. The husband has some prior belief of 0.7 that it is the wife and 0.3 that it is the daughter. It is possible that neither of them have prepared the meal. It is also possible that both of them prepared it together. The probabilities are independent in a way such that P(W, D) = P(W)P(D). The prior knowledge can be formulated as below \n",
    "\n",
    "P(W) = 0.7\n",
    "<br>P(D) = 0.3\n",
    "<br>P(W, D) = P(W)P(D)\n",
    "\n",
    "Besides this he also knows the following,\n",
    "\n",
    "P($F$|$\\bar{W}$,$\\bar{D}$) = 0.1\n",
    "<br>P($F$|$\\bar{W}$,$D$) = 0.6\n",
    "<br>P($F$|$W$,$\\bar{D}$) = 0.4\n",
    "<br>P($F$|$W$,$D$) = 0.3\n",
    "\n",
    "What is the probability that the wife prepared the food? P(W|F=1)\n",
    "\n",
    "I am using the pgmpy package for this.\n",
    "    "
   ]
  },
  {
   "cell_type": "code",
   "execution_count": 3,
   "metadata": {
    "collapsed": true
   },
   "outputs": [],
   "source": [
    "from pgmpy.models import BayesianModel as bysmodel\n",
    "from pgmpy.factors.discrete import TabularCPD as tcpd # TabularCPD - Tabular Conditional Probability Distribution"
   ]
  },
  {
   "cell_type": "code",
   "execution_count": 6,
   "metadata": {},
   "outputs": [],
   "source": [
    "#Defining the model with connections between random variables\n",
    "model = bysmodel([('W', 'F'), ('D', 'F')]);\n",
    "\n",
    "#Defining prior\n",
    "priorW = tcpd(variable='W', variable_card=2, values=[[0.3, 0.7]])\n",
    "priorD = tcpd(variable='D', variable_card=2, values=[[0.7, 0.3]])\n",
    "\n",
    "#Defining conditional probability\n",
    "cpdK = tcpd(variable='F', variable_card=2, evidence=['W', 'D'], evidence_card=[2,2], \n",
    "           values=[[0.9, 0.6, 0.4, 0.7], \n",
    "                   [0.1, 0.4, 0.6, 0.3]])\n",
    "\n",
    "#Adding the probabilities \n",
    "model.add_cpds(priorW, priorD, cpdK)"
   ]
  },
  {
   "cell_type": "code",
   "execution_count": 7,
   "metadata": {},
   "outputs": [
    {
     "data": {
      "text/plain": [
       "True"
      ]
     },
     "execution_count": 7,
     "metadata": {},
     "output_type": "execute_result"
    }
   ],
   "source": [
    "model.check_model()"
   ]
  },
  {
   "cell_type": "code",
   "execution_count": 8,
   "metadata": {},
   "outputs": [
    {
     "name": "stdout",
     "output_type": "stream",
     "text": [
      "╒═════╤═════╤═════╤═════╤═════╕\n",
      "│ W   │ W_0 │ W_0 │ W_1 │ W_1 │\n",
      "├─────┼─────┼─────┼─────┼─────┤\n",
      "│ D   │ D_0 │ D_1 │ D_0 │ D_1 │\n",
      "├─────┼─────┼─────┼─────┼─────┤\n",
      "│ F_0 │ 0.9 │ 0.6 │ 0.4 │ 0.7 │\n",
      "├─────┼─────┼─────┼─────┼─────┤\n",
      "│ F_1 │ 0.1 │ 0.4 │ 0.6 │ 0.3 │\n",
      "╘═════╧═════╧═════╧═════╧═════╛\n"
     ]
    }
   ],
   "source": [
    "print(model.get_cpds('F'))"
   ]
  },
  {
   "cell_type": "markdown",
   "metadata": {},
   "source": [
    "### Bayesian Inference "
   ]
  },
  {
   "cell_type": "code",
   "execution_count": 9,
   "metadata": {
    "collapsed": true
   },
   "outputs": [],
   "source": [
    "from pgmpy.inference import VariableElimination as proc"
   ]
  },
  {
   "cell_type": "markdown",
   "metadata": {},
   "source": [
    "What is the probability that the wife prepared the food? P(W|F=1)"
   ]
  },
  {
   "cell_type": "code",
   "execution_count": 11,
   "metadata": {},
   "outputs": [
    {
     "name": "stdout",
     "output_type": "stream",
     "text": [
      "╒═════╤══════════╕\n",
      "│ W   │   phi(W) │\n",
      "╞═════╪══════════╡\n",
      "│ W_0 │   0.1377 │\n",
      "├─────┼──────────┤\n",
      "│ W_1 │   0.8623 │\n",
      "╘═════╧══════════╛\n"
     ]
    }
   ],
   "source": [
    "infer = proc(model)\n",
    "print(infer.query(['W'], evidence={'F':1}) ['W'])"
   ]
  },
  {
   "cell_type": "markdown",
   "metadata": {},
   "source": [
    "What is the probability that the daughter prepared the food? P(D|F=1)"
   ]
  },
  {
   "cell_type": "code",
   "execution_count": 12,
   "metadata": {},
   "outputs": [
    {
     "name": "stdout",
     "output_type": "stream",
     "text": [
      "╒═════╤══════════╕\n",
      "│ D   │   phi(D) │\n",
      "╞═════╪══════════╡\n",
      "│ D_0 │   0.7609 │\n",
      "├─────┼──────────┤\n",
      "│ D_1 │   0.2391 │\n",
      "╘═════╧══════════╛\n"
     ]
    }
   ],
   "source": [
    "print(infer.query(['D'], evidence={'F':1}) ['D'])"
   ]
  },
  {
   "cell_type": "code",
   "execution_count": 18,
   "metadata": {},
   "outputs": [
    {
     "name": "stdout",
     "output_type": "stream",
     "text": [
      "╒═════╤══════════╕\n",
      "│ W   │   phi(W) │\n",
      "╞═════╪══════════╡\n",
      "│ W_0 │   0.1377 │\n",
      "├─────┼──────────┤\n",
      "│ W_1 │   0.8623 │\n",
      "╘═════╧══════════╛\n"
     ]
    }
   ],
   "source": [
    "print(infer.query(['W'], evidence={'F':1}) ['W'])"
   ]
  },
  {
   "cell_type": "markdown",
   "metadata": {},
   "source": [
    "Doing a variable elimination inference for P(W | F = 1).\n",
    "\n",
    "$P(W|F)$ = $\\sum_{D}P(W,D|F)$ <br>\n",
    "<br>        = $\\sum_{D}$ $\\dfrac{P(W,D,F)}{P(F)}$ <br>\n",
    "<br>        = $\\dfrac{P(W)\\sum_{D}P(F|W, D)P(D)}{\\sum_{W}P(W)\\sum_{D}P(F|W, D)}$ <br>\n",
    "<br>        = $\\dfrac{0.7 X ((0.3 X 0.3) + (0.6 X 0.7))}{0.7 X ((0.3 X 0.3) + (0.6 X 0.7)) + 0.3 X ((0.4 X 0.3) + (0.1 X 0.7))}$ <br>\n",
    "<br>        = $\\dfrac{0.357}{0.357+0.057}$<br>\n",
    "<br>        = $0.8623$<br>\n",
    "\n",
    "This is equal to the number got from pgmpy.\n",
    "\n"
   ]
  },
  {
   "cell_type": "markdown",
   "metadata": {},
   "source": [
    "Doing a variable elimination inference for P(D | F = 1).\n",
    "\n",
    "$P(D|F)$ = $\\sum_{W}P(W,D|F)$ <br>\n",
    "<br>        = $\\sum_{W}$ $\\dfrac{P(W,D,F)}{P(F)}$ <br>\n",
    "<br>        = $\\dfrac{P(D)\\sum_{W}P(F|W, D)P(W)}{\\sum_{D}P(D)\\sum_{W}P(F|W, D)}$ <br>\n",
    "<br>        = $\\dfrac{0.3 X ((0.3 X 0.7) + (0.4 X 0.3))}{0.3 X ((0.3 X 0.7) + (0.4 X 0.3)) + 0.7 X ((0.6 X 0.7) + (0.1 X 0.3))}$ <br>\n",
    "<br>        = $\\dfrac{0.099}{0.099+0.315}$<br>\n",
    "<br>        = $0.2391$<br>\n",
    "\n",
    "This is equal to the number got from pgmpy."
   ]
  },
  {
   "cell_type": "markdown",
   "metadata": {},
   "source": [
    "The above is an example of binary variables. I have also done an example for discrete values. "
   ]
  },
  {
   "cell_type": "markdown",
   "metadata": {},
   "source": [
    "### 2) Bayesian Model Using PYMC3\n",
    "\n",
    "Jhon (J) comes home and notices the door to be open. It can either be that the wife - Stella (S) is home or the maid (M) has left the door open or there is a burglary. Next, he notices that there is no car parked at the driveway so he concludes that his wife is not back and rushes into the house to see that everythng is as it is and clean. So, he concludes that the maid must have left the door open. "
   ]
  },
  {
   "cell_type": "markdown",
   "metadata": {},
   "source": [
    "### Making the model"
   ]
  },
  {
   "cell_type": "markdown",
   "metadata": {},
   "source": [
    "We can make the situation by using probability by following a general approach. The variables included in the model are - \n",
    "<br>\n",
    "D - {True, False} Corresponds to whether the door is open or not. <br>\n",
    "S - {True, False} Corresponds to whether Stella is home or not. <br>\n",
    "M - {True, False} Corresponds to whether Maid has left the door open or not. <br>\n",
    "B - {True, False} Corresponds to whether there is a burglary or not. <br>\n",
    "C - {True, False} Corresponds to whether there is a car present in the driveway. <br>\n",
    "I - {True, False} Corresponds to whether items are missing at home or not. <br>\n",
    "\n",
    "A model of Jhon's world would be represented as P(D, S, M, B, C, I). The order is irrlevant.\n",
    "\n",
    "The model can be shown as below - \n",
    "\n",
    "P(D, S, M, B, C, I) = P(D|M, S, B) P(C|S) P(I|B) P(B) P(S) P(M)\n",
    "\n",
    "<img src=\"Open Door.png\" width=\"300\">\n",
    "\n",
    "We assume the following priors - \n",
    "P(B = True) is 0.2, P(S = True) = 0.6, P(M = True) = 0.3, P(I = True | B = True) = 0.8 (Only cash could be stolen), P(I = True | B = False) = 0, P(C = True | S = True) = 0.7 (She might have come home in public transport), P(C = True | S = False) = 0.2 (Some other car can be parked at the driveway), P(D = true | M = True, S = False, B = False) = 1 and so on for other combinations of M, S and B either one of them being true. When all are false the door is closed.\n",
    "\n",
    "I have used the package PyMC3 for this to build the belief network.  "
   ]
  },
  {
   "cell_type": "code",
   "execution_count": 19,
   "metadata": {
    "collapsed": true
   },
   "outputs": [],
   "source": [
    "import pymc3\n",
    "\n",
    "model = pymc3.Model()"
   ]
  },
  {
   "cell_type": "markdown",
   "metadata": {},
   "source": [
    "To define descrete variables in pymc3 we need to use the bernouli distribution, categorical distribution and need to do some work around using with function pymc3.math.switch.\n",
    "\n",
    "Bernoulli distribution is defined as\n",
    "\n",
    "$$ f(x | p) = p^x (1 - p)^{1 - x} $$\n",
    "\n",
    "Where $x$ is a binary variable, it's a natural way to represent binary random variables. In this way, we can define variable $S$, $B$ and $M$ as following\n",
    "\n",
    "<center>\n",
    "P(B = true) = 0.2 <br>\n",
    "P(S = true) = 0.6 <br>\n",
    "P(M = true) = 0.3\n",
    "</center>"
   ]
  },
  {
   "cell_type": "code",
   "execution_count": 20,
   "metadata": {
    "collapsed": true
   },
   "outputs": [],
   "source": [
    "from pymc3 import Bernoulli\n",
    "\n",
    "with model:\n",
    "    Burglary = Bernoulli('Burglary', 0.2)\n",
    "    Stella = Bernoulli('Stella', 0.6)\n",
    "    Maid = Bernoulli('Maid', 0.3)"
   ]
  },
  {
   "cell_type": "markdown",
   "metadata": {},
   "source": [
    "Variable $D$, $C$ and $I$ are defined by conditional probability, which cannot directly expressed as a Bernoulli distribution. Here we use a work around with function *pymc3.math.switch*, which create a *TensorVariable* can do *if-then-else* selection in place.\n",
    "\n",
    "\n",
    "<center>\n",
    "    P(I = true | B = true) = 0.8 <br>\n",
    "    P(I = true | B = false) = 0 <br>\n",
    "<br>\n",
    "    P(C = true | S = true) = 0.7 <br>\n",
    "    P(C = true | S = false) = 0.2 <br>\n",
    "<br>    \n",
    "    P(D = true | M = true, S, B) = 1.0 <br>\n",
    "    P(D = true | M = false, S = false, B = false) = 0 <br>\n",
    "    P(D = true | M = false, S = true, B = false) = 0.4\n",
    "</center>\n"
   ]
  },
  {
   "cell_type": "code",
   "execution_count": 21,
   "metadata": {
    "collapsed": true
   },
   "outputs": [],
   "source": [
    "from pymc3.math import switch\n",
    "\n",
    "with model:\n",
    "    Item = Bernoulli('Item', switch(Burglary, 0.8, 0))\n",
    "    Car = Bernoulli('Car', switch(Stella, 0.7, 0.2))\n",
    "    # use nested switch function to deal with multiple conditions\n",
    "    Door = Bernoulli('Door', switch(Maid, 1, switch(Stella, 0.4, 0)))"
   ]
  },
  {
   "cell_type": "code",
   "execution_count": 22,
   "metadata": {},
   "outputs": [
    {
     "name": "stderr",
     "output_type": "stream",
     "text": [
      "Multiprocess sampling (2 chains in 2 jobs)\n",
      "BinaryGibbsMetropolis: [Burglary, Stella, Maid, Item, Car, Door]\n",
      "100%|██████████| 20500/20500 [00:16<00:00, 1263.90it/s]\n",
      "The number of effective samples is smaller than 25% for some parameters.\n"
     ]
    },
    {
     "data": {
      "image/png": "[encoded data removed]",
      "text/plain": [
       "<matplotlib.figure.Figure at 0x10b5a8b38>"
      ]
     },
     "metadata": {},
     "output_type": "display_data"
    }
   ],
   "source": [
    "%matplotlib inline\n",
    "\n",
    "nsamples = 20000\n",
    "\n",
    "with model:\n",
    "    trace = pymc3.sample(nsamples, chains=2)\n",
    "    pymc3.traceplot(trace)"
   ]
  },
  {
   "cell_type": "code",
   "execution_count": 23,
   "metadata": {
    "collapsed": true
   },
   "outputs": [],
   "source": [
    "def calcCondProb(trace, event, cond):\n",
    "    # find all samples satisfy conditions\n",
    "    for k, v in cond.items():\n",
    "        trace = [smp for smp in trace if smp[k] == v]\n",
    "    # record quantity of all samples fulfill condition\n",
    "    nCondSample = len(trace)\n",
    "    # find all samples satisfy event\n",
    "    for k, v in event.items():\n",
    "        trace = [smp for smp in trace if smp[k] == v]\n",
    "    # calculate conditional probability\n",
    "    return len(trace) / nCondSample"
   ]
  },
  {
   "cell_type": "markdown",
   "metadata": {},
   "source": [
    "What is the probability that a car is present given that the door is open?"
   ]
  },
  {
   "cell_type": "code",
   "execution_count": 25,
   "metadata": {},
   "outputs": [
    {
     "name": "stdout",
     "output_type": "stream",
     "text": [
      "P(C = true | D = true) =  0.569906088424607\n"
     ]
    }
   ],
   "source": [
    "print('P(C = true | D = true) = ', \n",
    "      calcCondProb(trace, {'Car' : 1}, {'Door' : 1}))"
   ]
  },
  {
   "cell_type": "markdown",
   "metadata": {},
   "source": [
    "What is the probability that a car is present given that the door is open and Stella is not home?"
   ]
  },
  {
   "cell_type": "code",
   "execution_count": 26,
   "metadata": {},
   "outputs": [
    {
     "name": "stdout",
     "output_type": "stream",
     "text": [
      "P(C = true | D = true, S = false) =  0.19090536665301105\n"
     ]
    }
   ],
   "source": [
    "print('P(C = true | D = true, S = false) = ', \n",
    "      calcCondProb(trace, {'Car' : 1}, {'Door' : 1, 'Stella' : 0}))"
   ]
  },
  {
   "cell_type": "markdown",
   "metadata": {},
   "source": [
    "What is the probability that Stella is home given that the door is open?"
   ]
  },
  {
   "cell_type": "code",
   "execution_count": 27,
   "metadata": {},
   "outputs": [
    {
     "name": "stdout",
     "output_type": "stream",
     "text": [
      "P(S = true | D = true) =  0.742429038725335\n"
     ]
    }
   ],
   "source": [
    "print('P(S = true | D = true) = ', \n",
    "      calcCondProb(trace, {'Stella' : 1}, {'Door' : 1}))"
   ]
  },
  {
   "cell_type": "markdown",
   "metadata": {},
   "source": [
    "What is the probability that the maid left the door open given that the door is open?"
   ]
  },
  {
   "cell_type": "code",
   "execution_count": 28,
   "metadata": {},
   "outputs": [
    {
     "name": "stdout",
     "output_type": "stream",
     "text": [
      "P(M = true | D = true) =  0.6437691252506067\n"
     ]
    }
   ],
   "source": [
    "print('P(M = true | D = true) = ', \n",
    "      calcCondProb(trace, {'Maid' : 1}, {'Door' : 1}))"
   ]
  },
  {
   "cell_type": "markdown",
   "metadata": {},
   "source": [
    "What is the probability that there has been a burglary given that the door is open?"
   ]
  },
  {
   "cell_type": "code",
   "execution_count": 29,
   "metadata": {},
   "outputs": [
    {
     "name": "stdout",
     "output_type": "stream",
     "text": [
      "P(B = true | D = true) =  0.19869156906193944\n"
     ]
    }
   ],
   "source": [
    "print('P(B = true | D = true) = ', \n",
    "      calcCondProb(trace, {'Burglary' : 1}, {'Door' : 1}))"
   ]
  },
  {
   "cell_type": "markdown",
   "metadata": {},
   "source": [
    "What is the probability that the maid left the door open given that the door is open, car is not present in the driveway and all the items are as they are? - This is the scenario that Jhon experiences and we can see that Jhon's conclusion has the highest probability. "
   ]
  },
  {
   "cell_type": "code",
   "execution_count": 38,
   "metadata": {},
   "outputs": [
    {
     "name": "stdout",
     "output_type": "stream",
     "text": [
      "P(M = true | D = true, C = false, Item = False) =  0.7494158878504673\n"
     ]
    }
   ],
   "source": [
    "print('P(M = true | D = true, C = false, Item = False) = ', \n",
    "      calcCondProb(trace, {'Maid' : 1}, {'Door' : 1, 'Car' : 0, 'Item' : 0}))"
   ]
  },
  {
   "cell_type": "markdown",
   "metadata": {},
   "source": [
    "What is the probability that there was a burglary given that the door is open, car is not present in the driveway and all the items are as they are?"
   ]
  },
  {
   "cell_type": "code",
   "execution_count": 37,
   "metadata": {},
   "outputs": [
    {
     "name": "stdout",
     "output_type": "stream",
     "text": [
      "P(B = true | D = true, C = false, Item = False) =  0.0481892523364486\n"
     ]
    }
   ],
   "source": [
    "print('P(B = true | D = true, C = false, Item = False) = ', \n",
    "      calcCondProb(trace, {'Burglary' : 1}, {'Door' : 1, 'Car' : 0, 'Item' : 0}))"
   ]
  },
  {
   "cell_type": "markdown",
   "metadata": {},
   "source": [
    "What is the probability that stella is back home given that the door is open, car is not present in the driveway and all the items are as they are?"
   ]
  },
  {
   "cell_type": "code",
   "execution_count": 36,
   "metadata": {},
   "outputs": [
    {
     "name": "stdout",
     "output_type": "stream",
     "text": [
      "P(S = true | D = true, C = false, Item = False) =  0.5175233644859814\n"
     ]
    }
   ],
   "source": [
    "print('P(S = true | D = true, C = false, Item = False) = ', \n",
    "      calcCondProb(trace, {'Stella' : 1}, {'Door' : 1, 'Car' : 0, 'Item' : 0}))"
   ]
  },
  {
   "cell_type": "markdown",
   "metadata": {},
   "source": [
    "What is the probability that there was a burglary given that the door is open, car is not present in the driveway and all the items are not as they were before?"
   ]
  },
  {
   "cell_type": "code",
   "execution_count": 39,
   "metadata": {},
   "outputs": [
    {
     "name": "stdout",
     "output_type": "stream",
     "text": [
      "P(B = true | D = true, C = false, Item = True) =  1.0\n"
     ]
    }
   ],
   "source": [
    "print('P(B = true | D = true, C = false, Item = True) = ', \n",
    "      calcCondProb(trace, {'Burglary' : 1}, {'Door' : 1, 'Car' : 0, 'Item' : 1}))"
   ]
  }
 ],
 "metadata": {
  "kernelspec": {
   "display_name": "Python 3",
   "language": "python",
   "name": "python3"
  },
  "language_info": {
   "codemirror_mode": {
    "name": "ipython",
    "version": 3
   },
   "file_extension": ".py",
   "mimetype": "text/x-python",
   "name": "python",
   "nbconvert_exporter": "python",
   "pygments_lexer": "ipython3",
   "version": "3.6.4"
  }
 },
 "nbformat": 4,
 "nbformat_minor": 2
}
