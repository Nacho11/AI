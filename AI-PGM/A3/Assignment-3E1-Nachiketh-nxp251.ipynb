{
 "cells": [
  {
   "cell_type": "markdown",
   "metadata": {},
   "source": [
    "### Problem Description - Bayesian Network Model For Diagnosis Of Liver Disorders \n",
    "\n",
    "Bayesian networks are successfully applied to a variety of problems, including machine diagnosis, user interface, natural language interpretation, planning, vision, robotics, data mining, and many others.\n",
    "\n",
    "A patient presents with Fatigue and wants to get treated in a hospital. The patient has a history of alcohol abuse. The doctor suspects a Liver Disorder as he sees hair loss and tinge of yellow skin and asks the patient to take a number of tests. The doctor decides to run a  bilirubin test and the results show that there is no increase in the compound. After the next test results show that the liver is of the same size, no gallstones are present and the patient has not developed any pathological resistance. The doctor doesn't know anything about the patient work. After all the tests the result showed that the doctor prescribes some energy drinks. How does the fact that patient having apathy affect the belief of having a liver disorder? \n",
    "\n",
    "A few causes for liver disorder can be Gallstones, history of alcohol abuse, hepatotoxic medications or/and history of viral hepatitis. Having a liver disorder can cause body hair loss, fatigue, hepatomegaly(enlargement of liver), resistance to pathology, or/and total bilirubin(increase in the compund in the blood). A person will experience jaundice symptoms and itching because of increased levels of total bilirubin. Body hair loss leads to apathy in a person.    \n",
    "\n",
    "Here, we create several binary variables to describe the problem:\n",
    "\n",
    "- $G$ : Gallstones \n",
    "- $A$ : History of Alchol Abuse\n",
    "- $VH$ : History of viral hepatitis\n",
    "- $HM$ : Hepatonic Medications\n",
    "- $TB$ : Total Bilirubin\n",
    "- $HL$ : Body Hair Loss\n",
    "- $F$ : Fatigue\n",
    "- $H$ : Hepatomegaly\n",
    "- $PR$ : Pathological Resistance\n",
    "- $JS$ : Jaundice Symptoms\n",
    "- $I$ : Itching\n",
    "- $AP$ : Apathy\n",
    "- $L$ : Liver Disorders\n",
    "\n",
    "Beside, we have the estimations of related conditional probabilities:\n",
    "\n",
    "| Variable | Conditional Probability (or Prior) | Variable | Conditional Probability (or Prior) |\n",
    "|--------:|-------:|--------:|-------:|\n",
    "| $G$ | $$P(G) = 0.05 $$ | $A$ | $$P(A) = 0.5$$ |\n",
    "| $VH$ | $$P(VH) = 0.1 $$ | $A$ | $$P(HM) = 0.1$$ |\n",
    "| $JS$ | $$P(JS|TB) = 0.7$$  | $F$  | $$P(F|L) = 0.7$$ |\n",
    "| | $$P(JS|TB') = 0.01$$ | | $$P(F|L') = 0.3$$ |\n",
    "| $I$ | $$P(L|I) = 0.1$$ | $H$  | $$P(H|L) = 0.9$$ |\n",
    "| | $$P(L|I') = 0.01$$ | | $$P(H|L') = 0.01$$ |\n",
    "| $AP$ | $$P(AP|HL) = 0.5$$ | $PR$ | $$P(PR|L) = 0.4$$ |\n",
    "| | $$P(AP|HL') = 0.05$$ | | $$P(PR|L') = 0.05$$ |\n",
    "| $L$ | $$P(L|A, G, VH, HM) = 0.8$$ | $TB$ | $$P(TB|L) = 0.7$$ |\n",
    "| | $$P(L|A, G, VH, HM') = 0.7$$ | | $$P(TB|L') = 0.1$$ |\n",
    "| | $$P(L|A, G, VH', HM') = 0.6$$ | $HL$  | $$P(HL|L) = 0.4$$ |\n",
    "| | $$P(L|A, G, VH', HM) = 0.65$$ | | $$P(HL|L') = 0.3$$ |\n",
    "| | $$P(L|A, G', VH', HM') = 0.1$$ | \n",
    "| | $$P(L|A, G', VH, HM') = 0.3$$ | \n",
    "| | $$P(L|A, G', VH', HM) = 0.35$$ | \n",
    "| | $$P(L|A, G', VH, HM) = 0.3$$ | \n",
    "| | $$P(L|A', G, VH, HM) = 0.6$$ | \n",
    "| | $$P(L|A', G, VH', HM) = 0.65$$ | \n",
    "| | $$P(L|A', G, VH, HM') = 0.55$$ |\n",
    "| | $$P(L|A', G', VH, HM) = 0.4$$ |\n",
    "| | $$P(L|A', G, VH', HM') = 0.5$$ |\n",
    "| | $$P(L|A', G', VH, HM') = 0.3$$ | \n",
    "| | $$P(L|A', G', VH', HM) = 0.15$$ | \n",
    "| | $$P(L|A', G', VH', HM') = 0.1$$ | \n",
    "\n",
    "Then, we have the belief network shown as follows:\n",
    "\n",
    "<img src=\"network.png\">"
   ]
  },
  {
   "cell_type": "code",
   "execution_count": 1,
   "metadata": {
    "collapsed": true
   },
   "outputs": [],
   "source": [
    "from pgmpy.models import BayesianModel as bysmodel\n",
    "from pgmpy.factors.discrete import TabularCPD as tcpd"
   ]
  },
  {
   "cell_type": "code",
   "execution_count": 101,
   "metadata": {
    "collapsed": true
   },
   "outputs": [],
   "source": [
    "#Define models with connections between them\n",
    "model = bysmodel([('G', 'L'), ('A', 'L'), ('VH', 'L'), ('HM', 'L'), ('L', 'TB'),\n",
    "                  ('L', 'HL'), ('L', 'F'), ('L', 'H'), ('L', 'PR'), ('TB', 'JS'), ('TB', 'I'), ('HL', 'AP')])"
   ]
  },
  {
   "cell_type": "code",
   "execution_count": 75,
   "metadata": {},
   "outputs": [],
   "source": [
    "#Prior Probabilities\n",
    "priorG = tcpd(variable='G', variable_card=2, values=[[0.05, 0.95]])\n",
    "priorA = tcpd(variable='A', variable_card=2, values=[[0.5, 0.5]])\n",
    "priorVH = tcpd(variable='VH', variable_card=2, values=[[0.1, 0.9]])\n",
    "priorHM = tcpd(variable='HM', variable_card=2, values=[[0.1, 0.9]])\n",
    "\n",
    "# conditional probabilities for other variables\n",
    "cpdTB = tcpd(variable='TB', variable_card=2, \n",
    "            evidence=['L'], evidence_card=[2], \n",
    "            values=[[0.7, 0.1], [0.3, 0.9]])\n",
    "\n",
    "cpdHL = tcpd(variable='HL', variable_card=2, \n",
    "            evidence=['L'], evidence_card=[2], \n",
    "            values=[[0.4, 0.3], [0.6, 0.7]])\n",
    "\n",
    "cpdJS = tcpd(variable='JS', variable_card=2, \n",
    "            evidence=['TB'], evidence_card=[2], \n",
    "            values=[[0.7, 0.01], [0.3, 0.99]])\n",
    "\n",
    "cpdF = tcpd(variable='F', variable_card=2, \n",
    "            evidence=['L'], evidence_card=[2], \n",
    "            values=[[0.70, 0.30], [0.30, 0.70]])\n",
    "\n",
    "cpdI = tcpd(variable='I', variable_card=2, \n",
    "            evidence=['TB'], evidence_card=[2], \n",
    "            values=[[0.1, 0.01], [0.9, 0.99]])\n",
    "\n",
    "cpdH = tcpd(variable='H', variable_card=2, \n",
    "            evidence=['L'], evidence_card=[2], \n",
    "            values=[[0.9, 0.01], [0.1, 0.99]])\n",
    "\n",
    "cpdAP = tcpd(variable='AP', variable_card=2, \n",
    "            evidence=['HL'], evidence_card=[2], \n",
    "            values=[[0.5, 0.05], [0.5, 0.95]])\n",
    "\n",
    "cpdPR = tcpd(variable='PR', variable_card=2, \n",
    "            evidence=['L'], evidence_card=[2], \n",
    "            values=[[0.4, 0.05], [0.6, 0.95]])\n",
    "\n",
    "cpdL = tcpd(variable='L', variable_card=2, \n",
    "            evidence=['A', 'G', 'VH', 'HM'], evidence_card=[2, 2, 2, 2], \n",
    "            values=[[0.90, 0.85, 0.7, 0.6, 0.5, 0.35, 0.45, 0.4, 0.9, 0.65, 0.7, 0.7, 0.4, 0.35, 0.30, 0.20],\n",
    "                    [0.10, 0.15, 0.3, 0.4, 0.5, 0.65, 0.55, 0.6, 0.1, 0.35, 0.3, 0.3, 0.6, 0.65, 0.70, 0.80]])"
   ]
  },
  {
   "cell_type": "code",
   "execution_count": 77,
   "metadata": {},
   "outputs": [
    {
     "data": {
      "text/plain": [
       "True"
      ]
     },
     "execution_count": 77,
     "metadata": {},
     "output_type": "execute_result"
    }
   ],
   "source": [
    "#Add the priors and cpds to the model\n",
    "model.add_cpds(priorG, priorA, priorVH, priorHM, cpdTB, cpdHL, cpdJS, cpdF, cpdI, cpdH, cpdAP, cpdPR, cpdL)\n",
    "#Check Consistency\n",
    "model.check_model()"
   ]
  },
  {
   "cell_type": "markdown",
   "metadata": {},
   "source": [
    "## Solving The Method With Different Methods \n",
    "\n",
    "Given that the person drinks alchol, has itching and test results show that the person has no Gallstones and has the right level of bilirubin compound. Calculate the probability of the person having a Liver Disorder. Also calculate the person having Fatigue. How would this probability change if you get to know that the person is working at an NGO i.e he is passionate about his work?\n",
    "\n",
    "### Variable Elimination"
   ]
  },
  {
   "cell_type": "code",
   "execution_count": 78,
   "metadata": {
    "collapsed": true
   },
   "outputs": [],
   "source": [
    "from pgmpy.inference import VariableElimination\n",
    "VESolver = VariableElimination(model)"
   ]
  },
  {
   "cell_type": "code",
   "execution_count": 102,
   "metadata": {},
   "outputs": [
    {
     "name": "stdout",
     "output_type": "stream",
     "text": [
      "Fatigue : 32.3%\n",
      "Liver Disorder : 5.8%\n"
     ]
    }
   ],
   "source": [
    "#Probability without knowing anything about the person's apathy\n",
    "print('Fatigue : %.1f%%' % (VESolver.query(['F'], evidence={'TB' : 0, 'A' : 1, 'I':1, 'G': 0})['F'].values[1] * 100))\n",
    "print('Liver Disorder : %.1f%%' % \n",
    "      (VESolver.query(['L'], evidence={'TB' : 0, 'A' : 1, 'I':1, 'G': 0})['L'].values[1] * 100))"
   ]
  },
  {
   "cell_type": "code",
   "execution_count": 103,
   "metadata": {},
   "outputs": [
    {
     "name": "stdout",
     "output_type": "stream",
     "text": [
      "Fatigue : 31.9%\n",
      "Liver Disorder : 4.7%\n"
     ]
    }
   ],
   "source": [
    "#Probability without knowing that the person does not have apathy\n",
    "print('Fatigue : %.1f%%' % (VESolver.query(['F'], evidence={'TB' : 0, 'A' : 1, 'I':1, 'G': 0, 'AP':0})['F'].values[1] * 100))\n",
    "print('Liver Disorder : %.1f%%' % \n",
    "      (VESolver.query(['L'], evidence={'TB' : 0, 'A' : 1, 'I':1, 'G': 0, 'AP':0})['L'].values[1] * 100))"
   ]
  },
  {
   "cell_type": "code",
   "execution_count": 104,
   "metadata": {},
   "outputs": [
    {
     "name": "stdout",
     "output_type": "stream",
     "text": [
      "Fatigue : 32.5%\n",
      "Liver Disorder : 6.2%\n"
     ]
    }
   ],
   "source": [
    "#Probability without knowing that the person has apathy\n",
    "print('Fatigue : %.1f%%' % (VESolver.query(['F'], evidence={'TB' : 0, 'A' : 1, 'I':1, 'G': 0, 'AP':1})['F'].values[1] * 100))\n",
    "print('Liver Disorder : %.1f%%' % \n",
    "      (VESolver.query(['L'], evidence={'TB' : 0, 'A' : 1, 'I':1, 'G': 0, 'AP':1})['L'].values[1] * 100))"
   ]
  },
  {
   "cell_type": "markdown",
   "metadata": {},
   "source": [
    "### Belief Propagation"
   ]
  },
  {
   "cell_type": "code",
   "execution_count": 82,
   "metadata": {
    "collapsed": true
   },
   "outputs": [],
   "source": [
    "from pgmpy.inference import BeliefPropagation"
   ]
  },
  {
   "cell_type": "code",
   "execution_count": 83,
   "metadata": {
    "collapsed": true
   },
   "outputs": [],
   "source": [
    "BPSolver = BeliefPropagation(model)"
   ]
  },
  {
   "cell_type": "code",
   "execution_count": 84,
   "metadata": {
    "collapsed": true
   },
   "outputs": [],
   "source": [
    "BPSolver.calibrate()"
   ]
  },
  {
   "cell_type": "code",
   "execution_count": 105,
   "metadata": {},
   "outputs": [
    {
     "name": "stdout",
     "output_type": "stream",
     "text": [
      "Fatigue : 32.3%\n",
      "Liver Disorder : 5.8%\n"
     ]
    }
   ],
   "source": [
    "print('Fatigue : %.1f%%' % (BPSolver.query(['F'], evidence={'TB' : 0, 'A' : 1, 'I':1, 'G':0})['F'].values[1] * 100))\n",
    "print('Liver Disorder : %.1f%%' % \n",
    "      (BPSolver.query(['L'], evidence={'TB' : 0, 'A' : 1, 'I':1, 'G':0})['L'].values[1] * 100))"
   ]
  },
  {
   "cell_type": "code",
   "execution_count": 106,
   "metadata": {},
   "outputs": [
    {
     "name": "stdout",
     "output_type": "stream",
     "text": [
      "Fatigue : 31.9%\n",
      "Liver Disorder : 4.7%\n"
     ]
    }
   ],
   "source": [
    "print('Fatigue : %.1f%%' % (BPSolver.query(['F'], evidence={'TB' : 0, 'A' : 1, 'I':1, 'G':0, 'AP':0})['F'].values[1] * 100))\n",
    "print('Liver Disorder : %.1f%%' % \n",
    "      (BPSolver.query(['L'], evidence={'TB' : 0, 'A' : 1, 'I':1, 'G':0, 'AP':0})['L'].values[1] * 100))"
   ]
  },
  {
   "cell_type": "code",
   "execution_count": 107,
   "metadata": {},
   "outputs": [
    {
     "name": "stdout",
     "output_type": "stream",
     "text": [
      "Fatigue : 32.5%\n",
      "Liver Disorder : 6.2%\n"
     ]
    }
   ],
   "source": [
    "print('Fatigue : %.1f%%' % (BPSolver.query(['F'], evidence={'TB' : 0, 'A' : 1, 'I':1, 'G':0, 'AP':1})['F'].values[1] * 100))\n",
    "print('Liver Disorder : %.1f%%' % \n",
    "      (BPSolver.query(['L'], evidence={'TB' : 0, 'A' : 1, 'I':1, 'G':0, 'AP':1})['L'].values[1] * 100))"
   ]
  },
  {
   "cell_type": "markdown",
   "metadata": {
    "collapsed": true
   },
   "source": [
    "### Bayesian Model Sampling"
   ]
  },
  {
   "cell_type": "code",
   "execution_count": 88,
   "metadata": {},
   "outputs": [],
   "source": [
    "from pgmpy.factors.discrete import State\n",
    "from pgmpy.sampling import BayesianModelSampling\n",
    "from pandas.core.frame import DataFrame"
   ]
  },
  {
   "cell_type": "code",
   "execution_count": 89,
   "metadata": {
    "collapsed": true
   },
   "outputs": [],
   "source": [
    "SMPSolver = BayesianModelSampling(model)\n",
    "\n",
    "nsamples = 1000\n",
    "evdDA  = [State('TB', 0), State('A', 1), State('I', 1), State('I', 1), State('G', 0)]\n",
    "smpDA  = SMPSolver.rejection_sample(evidence=evdDA, size=nsamples)"
   ]
  },
  {
   "cell_type": "code",
   "execution_count": 90,
   "metadata": {
    "collapsed": true
   },
   "outputs": [],
   "source": [
    "def calcCondProb(trace, event, cond):\n",
    "    if type(trace) is DataFrame:\n",
    "        trace = trace.transpose().to_dict().values()\n",
    "    # find all samples satisfy conditions\n",
    "    for k, v in cond.items():\n",
    "        trace = [smp for smp in trace if smp[k] == v]\n",
    "    # record quantity of all samples fulfill condition\n",
    "    nCondSample = len(trace)\n",
    "    # find all samples satisfy event\n",
    "    for k, v in event.items():\n",
    "        trace = [smp for smp in trace if smp[k] == v]\n",
    "    # calculate conditional probability\n",
    "    return len(trace) / nCondSample"
   ]
  },
  {
   "cell_type": "code",
   "execution_count": 91,
   "metadata": {},
   "outputs": [
    {
     "name": "stdout",
     "output_type": "stream",
     "text": [
      "Fatigue : 31.2%\n"
     ]
    }
   ],
   "source": [
    "print('Fatigue : %.1f%%' % (calcCondProb(smpDA, {'F' : 1}, {}) * 100))"
   ]
  },
  {
   "cell_type": "code",
   "execution_count": 92,
   "metadata": {},
   "outputs": [
    {
     "name": "stdout",
     "output_type": "stream",
     "text": [
      "Liver Disorder : 6.0%\n"
     ]
    }
   ],
   "source": [
    "print('Liver Disorder : %.1f%%' % (calcCondProb(smpDA, {'L' : 1}, {}) * 100))"
   ]
  },
  {
   "cell_type": "code",
   "execution_count": 93,
   "metadata": {
    "collapsed": true
   },
   "outputs": [],
   "source": [
    "SMPSolver = BayesianModelSampling(model)\n",
    "\n",
    "nsamples = 1000\n",
    "evdDA  = [State('TB', 0), State('A', 1), State('I', 1), State('I', 1), State('AP', 0), State('G', 0)]\n",
    "smpDA  = SMPSolver.rejection_sample(evidence=evdDA, size=nsamples)"
   ]
  },
  {
   "cell_type": "code",
   "execution_count": 94,
   "metadata": {
    "collapsed": true
   },
   "outputs": [],
   "source": [
    "def calcCondProb(trace, event, cond):\n",
    "    if type(trace) is DataFrame:\n",
    "        trace = trace.transpose().to_dict().values()\n",
    "    # find all samples satisfy conditions\n",
    "    for k, v in cond.items():\n",
    "        trace = [smp for smp in trace if smp[k] == v]\n",
    "    # record quantity of all samples fulfill condition\n",
    "    nCondSample = len(trace)\n",
    "    # find all samples satisfy event\n",
    "    for k, v in event.items():\n",
    "        trace = [smp for smp in trace if smp[k] == v]\n",
    "    # calculate conditional probability\n",
    "    return len(trace) / nCondSample"
   ]
  },
  {
   "cell_type": "code",
   "execution_count": 95,
   "metadata": {},
   "outputs": [
    {
     "name": "stdout",
     "output_type": "stream",
     "text": [
      "Fatigue : 32.7%\n"
     ]
    }
   ],
   "source": [
    "print('Fatigue : %.1f%%' % (calcCondProb(smpDA, {'F' : 1}, {}) * 100))"
   ]
  },
  {
   "cell_type": "code",
   "execution_count": 96,
   "metadata": {},
   "outputs": [
    {
     "name": "stdout",
     "output_type": "stream",
     "text": [
      "Liver Disorder : 4.6%\n"
     ]
    }
   ],
   "source": [
    "print('Liver Disorder : %.1f%%' % (calcCondProb(smpDA, {'L' : 1}, {}) * 100))"
   ]
  },
  {
   "cell_type": "markdown",
   "metadata": {},
   "source": [
    "Condition where apathy is 1."
   ]
  },
  {
   "cell_type": "code",
   "execution_count": 97,
   "metadata": {
    "collapsed": true
   },
   "outputs": [],
   "source": [
    "SMPSolver = BayesianModelSampling(model)\n",
    "\n",
    "nsamples = 1000\n",
    "evdDA  = [State('TB', 0), State('A', 1), State('I', 1), State('I', 1), State('AP', 1), State('G', 0)]\n",
    "smpDA  = SMPSolver.rejection_sample(evidence=evdDA, size=nsamples)"
   ]
  },
  {
   "cell_type": "code",
   "execution_count": 98,
   "metadata": {
    "collapsed": true
   },
   "outputs": [],
   "source": [
    "def calcCondProb(trace, event, cond):\n",
    "    if type(trace) is DataFrame:\n",
    "        trace = trace.transpose().to_dict().values()\n",
    "    # find all samples satisfy conditions\n",
    "    for k, v in cond.items():\n",
    "        trace = [smp for smp in trace if smp[k] == v]\n",
    "    # record quantity of all samples fulfill condition\n",
    "    nCondSample = len(trace)\n",
    "    # find all samples satisfy event\n",
    "    for k, v in event.items():\n",
    "        trace = [smp for smp in trace if smp[k] == v]\n",
    "    # calculate conditional probability\n",
    "    return len(trace) / nCondSample"
   ]
  },
  {
   "cell_type": "code",
   "execution_count": 99,
   "metadata": {},
   "outputs": [
    {
     "name": "stdout",
     "output_type": "stream",
     "text": [
      "Fatigue : 31.7%\n"
     ]
    }
   ],
   "source": [
    "print('Fatigue : %.1f%%' % (calcCondProb(smpDA, {'F' : 1}, {}) * 100))"
   ]
  },
  {
   "cell_type": "code",
   "execution_count": 100,
   "metadata": {},
   "outputs": [
    {
     "name": "stdout",
     "output_type": "stream",
     "text": [
      "Liver Disorder : 6.5%\n"
     ]
    }
   ],
   "source": [
    "print('Liver Disorder : %.1f%%' % (calcCondProb(smpDA, {'L' : 1}, {}) * 100))"
   ]
  },
  {
   "cell_type": "markdown",
   "metadata": {},
   "source": []
  }
 ],
 "metadata": {
  "kernelspec": {
   "display_name": "Python 3",
   "language": "python",
   "name": "python3"
  },
  "language_info": {
   "codemirror_mode": {
    "name": "ipython",
    "version": 3
   },
   "file_extension": ".py",
   "mimetype": "text/x-python",
   "name": "python",
   "nbconvert_exporter": "python",
   "pygments_lexer": "ipython3",
   "version": "3.6.4"
  }
 },
 "nbformat": 4,
 "nbformat_minor": 2
}
