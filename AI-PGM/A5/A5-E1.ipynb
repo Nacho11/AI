{
 "cells": [
  {
   "cell_type": "markdown",
   "metadata": {},
   "source": [
    "Write a gradient-based algorithm to learn the independent components, i.e. the mixing matrix, given a matrix where the rows contain samples from different source."
   ]
  },
  {
   "cell_type": "markdown",
   "metadata": {},
   "source": [
    "<b>Blind Signal Separation</b>\n",
    "\n",
    "Blind Signal Separation or Blind Source Separation is the separation of a set of source signals from a set of mixed signals, without the aid of information (or with very little information) about the source signals or the mixing process. The set of individual source signals, $s(t)$ = ($s_{1}(t)$, ... , $s_{n}(t)$) is mixed using a matrix, A = [$a_{ij}$] which belongs to $R^{mxn}$ to produce a set of 'mixed' signals, x(t) = ($x_{1}(t)$, ...., $x_{m}(t))^T$. \n",
    "\n",
    "$x(t) = A . s(t)$\n",
    "\n",
    "The above equation is effectively 'inverted' as follows. Blind source separation separates the set of mixed signals, $x(t)$, through the determination of an 'unmixing' matrix, B = [$B_{ij}$], to recover an approximation of the original signals, $y(t)$ = $(y_{1}(t),....,y_{n}(t))^T$ <br>\n",
    "\n",
    "$ y(t) =  B.x(t) $\n",
    "\n",
    "Learning objective is to maximize the likelihood function P(x|A) over A. <br>\n",
    "P($x_{1}$, $x_{2}$, ..., $x_{N}$|A) = $\\pi_{k}P(x_{k}|A)$\n",
    "\n",
    "P(x|A) = P(s) = $e^{s}$\n",
    "\n",
    "Learning Rule - dA = -A(zs^{T}+I) - taken from the notes not derived it here.\n",
    "where z = inverse of s.\n",
    "\n",
    "The algorithm is as follows:<br>\n",
    "1) Initialize a square matrix with same number of rows as the number of sounds. The matrix can be an identity matrix. Let it be W. <br>\n",
    "2) Calculate the source tracks by multiplying the inverse of W with the mixed sound track. <br>\n",
    "Loop till convergence or max_iteration: <br>\n",
    "    3) Calculate the gradient using the gradient equation provided above. <br>\n",
    "    4) Update the cost and check if its gradient is equal to 0 i.e test for convergence. <br>\n",
    "    "
   ]
  },
  {
   "cell_type": "code",
   "execution_count": null,
   "metadata": {
    "collapsed": true
   },
   "outputs": [],
   "source": []
  }
 ],
 "metadata": {
  "kernelspec": {
   "display_name": "Python 3",
   "language": "python",
   "name": "python3"
  },
  "language_info": {
   "codemirror_mode": {
    "name": "ipython",
    "version": 3
   },
   "file_extension": ".py",
   "mimetype": "text/x-python",
   "name": "python",
   "nbconvert_exporter": "python",
   "pygments_lexer": "ipython3",
   "version": "3.6.4"
  }
 },
 "nbformat": 4,
 "nbformat_minor": 2
}
